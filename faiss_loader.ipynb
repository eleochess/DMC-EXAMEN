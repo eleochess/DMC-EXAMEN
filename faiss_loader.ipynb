{
 "cells": [
  {
   "cell_type": "code",
   "execution_count": 6,
   "metadata": {},
   "outputs": [],
   "source": [
    "from langchain.document_loaders import PyPDFLoader\n",
    "from langchain.text_splitter import CharacterTextSplitter\n",
    "from langchain.vectorstores import FAISS\n",
    "from langchain.embeddings.sentence_transformer import SentenceTransformerEmbeddings"
   ]
  },
  {
   "cell_type": "code",
   "execution_count": 14,
   "metadata": {},
   "outputs": [],
   "source": [
    "loader = PyPDFLoader(\"BasesdelaInvestigacinCientfica.pdf\")\n",
    "data = loader.load()\n",
    "\\\n",
    "text_splitter = CharacterTextSplitter.from_tiktoken_encoder(\n",
    "    chunk_size = 600, \n",
    "    chunk_overlap = 100\n",
    ")\n",
    "\n",
    "docs = text_splitter.split_documents(documents = data)"
   ]
  },
  {
   "cell_type": "code",
   "execution_count": 15,
   "metadata": {},
   "outputs": [],
   "source": [
    "embedding_function = SentenceTransformerEmbeddings(model_name = \"all-MiniLM-L6-v2\")\n",
    "faiss_index = FAISS.from_documents(docs, embedding_function)"
   ]
  },
  {
   "cell_type": "code",
   "execution_count": 17,
   "metadata": {},
   "outputs": [
    {
     "name": "stdout",
     "output_type": "stream",
     "text": [
      "3: Bases de la Investigación Científica \n",
      " \n",
      ". \n",
      "3 \n",
      " \n",
      "1.1. Tipos de conocimientos \n",
      " \n",
      " De manera general, el conocimiento se clasifica en dos tipos: \n",
      " \n",
      "a. Conocimiento vulgar o práctico .También se le llama conocimiento común, \n",
      "integra los saberes de  la cultura por lo que se hereda y se transmite de \n",
      "generación en generación. Se aprende en los entornos sociales, sin \n",
      "profundizar en sus orígenes, recuperándose sin cuestionamientos, ni críticas   \n",
      "y se aplica para solventar los problemas. Pasa a formar parte de las \n",
      "representaciones sociales de  los grupos de modo casual, sin buscarlo \n",
      "intencionalmente, sin métodos, ni  mayores reflexiones , no obstante es un \n",
      "conocimiento completo que solventa muchos problemas de la cotidianidad y \n",
      "que según Arias (2006) “puede servir de base para la construcción del  \n",
      "conocimiento científico, debido a que una creencia puede ser investigada y \n",
      "posteriormente comprobada”(p.14).  Entre sus características están : \n",
      "especulativo, ametódico, particular, asistemático, dogmático.  Ejemplos: las \n",
      "vacas producen más leche si se les ca nta, muchos empresarios han \n",
      "alcanzado el éxito aplicando los saberes que sus padres les han transmitido, \n",
      "mito de Quetzalcóatl sobre el origen del mundo. \n",
      "b. Conocimiento C ientífico. Trasciende el sentido común al encontrar \n",
      "respuestas mediante el uso del método científico, por ello es el resultado de \n",
      "la aplicación de una metodología, lo que implica observar la realidad \n",
      "mediante técnicas e instrumentos adecuados para comprobar los fenómenos \n",
      "en forma sistemática. Entre sus características está el ser cierto o probable, \n",
      "demostrado o por demostrar,  generalizable. Ejemplo: teoría del bigbang , \n",
      "fenómeno de  la clonación, teoría del estructuralismo, el aprendizaje \n",
      "significativo. \n",
      " \n",
      "Ambos tipos de  conocimientos son importantes, pues son distintas formas de \n",
      "entender los fenómenos y son igualmente legítimos.   El conocimiento científico es \n",
      "considerado uno de los modos del conocimiento más útil ya  que ha permitido \n",
      "resolver importantes problemas de la humanidad, pero no es el único, lo cual es\n",
      "2: Molina G. T. y Mousalli-Kayat, G \n",
      "2 \n",
      " \n",
      "Bases de la Investigación Científica \n",
      " \n",
      "Para referenciar este documento: \n",
      "Molina G. T. y Mousalli-Kayat, G. (2015). Bases de la Investigación Científica. Mérida. \n",
      "Este documento está bajo una licencia de CreativeCommons Reconocimiento 4.0 \n",
      "Internacional  \n",
      " \n",
      "1. Conocimiento científico y conocimiento ordinario \n",
      "Al incursionar en el campo de la metodología es relevante abordar aspectos \n",
      "esenciales que explican el conocimiento y la ciencia. La inquietud del hombre por \n",
      "comprender el mundo que le rodea le ha llevado a d esarrollar diversos tipos de \n",
      "conocimientos; para lo cual hace uso de sus sentidos y de la razón, herramientas \n",
      "con las que se acerca a los objetos,   de modo que esa realidad que trata de conocer \n",
      "se llama Objeto del conocimiento. Asimismo, cuando en el proc eso de conocer, el \n",
      "hombre capta los datos del entorno, él se convierte en sujeto del conocimiento. \n",
      "Entonces, en la creación del conocimiento se establece una relación entre el objeto \n",
      "de conocimiento y el sujeto de conocimiento. Ese conocer conlleva a un proceso \n",
      "que finaliza en una representación interna sobre el objeto conocido, información que \n",
      "además de ser procesada y transformada,  será sistematizada para l a difusión, lo \n",
      "que da paso a  la representación del conocimiento. \n",
      " \n",
      "Entonces, el conocimiento se  obtiene luego de un  proceso transformador que \n",
      "involucra aspectos históricos y particulares, hay acumulación  de información, \n",
      "descubrimientos, planteamiento de hipótesis y generación de teorías.    \n",
      "En este sentido, Arias (2006)  define el conocimiento como” un proceso en el cual \n",
      "se relacionan el sujeto que conoce, que percibe mediante su sentidos, y el objeto \n",
      "conocido o percibido” (p.13).\n",
      "7: Bases de la Investigación Científica \n",
      " \n",
      ". \n",
      "7 \n",
      " \n",
      "características y relaciones de todo lo que lo rodea. Es así como el conocimiento se \n",
      "hace presente en esa relación entre el objeto a conocer y el sujeto que lo conoce. \n",
      "Tal como lo indica Hessen (2006) \n",
      "En el conocimiento se encuentran, frente a frente, la conciencia y \n",
      "el objeto, el sujeto y el objeto. El conocimiento se manifiesta como \n",
      "una relación entre estos dos elementos que permanecen en ella y \n",
      "están eternamente separados uno del otro… La función del sujeto \n",
      "consiste en aprehender al objeto, y la del objeto en ser aprehendido \n",
      "por el sujeto. (p. 30) \n",
      " \n",
      "Es así como las relaciones entre los objetos que rodean  al hombre son \n",
      "determinadas por él, ya que él es el sujeto cognoscente de la realidad. Las formas \n",
      "del conocer la realidad son determinadas por el sujeto y van desde el conocimiento \n",
      "común o vulgar hasta el conocimiento científico (Tamayo, 2004). \n",
      " \n",
      "Como ya se ha mencionado, el conocimientocomún o vulgar se manifiesta en la \n",
      "cotidianidad y forma parte de la cultura popular de los pueblos, por lo general su \n",
      "origen es desconocido, se acepta y aplica sin cuestionamientos de su proveniencia \n",
      "o los procedimientos que lo generaron. Ejemplo de este conocimiento está asociado \n",
      "al uso de remedios caseros para sanar alguna afección de salud. \n",
      " \n",
      "Por su parte el conocimiento científico se obtiene desde la observación, análisis \n",
      "y reflexión intencional sobre los fenómenos y situac iones cuya explicación o \n",
      "comprensión se desconoce. Bunge (1981) acota que este tipo de conocimiento es \n",
      "preciso, claro, sistemático, comunicable y verifica, constantemente, la adaptación \n",
      "de las ideas a los hechos a través de la observación y la experimentación. \n",
      " \n",
      "Hasta ahora se han  comentado los rasgos característicos y diferencias entre el \n",
      "conocimiento científico y el conocimiento común o vulgar, algunos hombres de \n",
      "ciencia han querido ubicar en un nivel superior al conocimiento científico, pero \n",
      "realmente su diferencias radican en los intereses a los cuales responden, \n",
      "particularmente, el conocimiento científico só lo es reconocido como tal, cuando es\n"
     ]
    }
   ],
   "source": [
    "docs = faiss_index.similarity_search(\"cuales son los Tipos de conocimientos?\", k = 3)\n",
    "for doc in docs:\n",
    "    print(str(doc.metadata[\"page\"]) + \":\", doc.page_content)"
   ]
  },
  {
   "cell_type": "code",
   "execution_count": 19,
   "metadata": {},
   "outputs": [
    {
     "data": {
      "text/plain": [
       "'Bases de la Investigación Científica \\n \\n. \\n3 \\n \\n1.1. Tipos de conocimientos \\n \\n De manera general, el conocimiento se clasifica en dos tipos: \\n \\na. Conocimiento vulgar o práctico .También se le llama conocimiento común, \\nintegra los saberes de  la cultura por lo que se hereda y se transmite de \\ngeneración en generación. Se aprende en los entornos sociales, sin \\nprofundizar en sus orígenes, recuperándose sin cuestionamientos, ni críticas   \\ny se aplica para solventar los problemas. Pasa a formar parte de las \\nrepresentaciones sociales de  los grupos de modo casual, sin buscarlo \\nintencionalmente, sin métodos, ni  mayores reflexiones , no obstante es un \\nconocimiento completo que solventa muchos problemas de la cotidianidad y \\nque según Arias (2006) “puede servir de base para la construcción del  \\nconocimiento científico, debido a que una creencia puede ser investigada y \\nposteriormente comprobada”(p.14).  Entre sus características están : \\nespeculativo, ametódico, particular, asistemático, dogmático.  Ejemplos: las \\nvacas producen más leche si se les ca nta, muchos empresarios han \\nalcanzado el éxito aplicando los saberes que sus padres les han transmitido, \\nmito de Quetzalcóatl sobre el origen del mundo. \\nb. Conocimiento C ientífico. Trasciende el sentido común al encontrar \\nrespuestas mediante el uso del método científico, por ello es el resultado de \\nla aplicación de una metodología, lo que implica observar la realidad \\nmediante técnicas e instrumentos adecuados para comprobar los fenómenos \\nen forma sistemática. Entre sus características está el ser cierto o probable, \\ndemostrado o por demostrar,  generalizable. Ejemplo: teoría del bigbang , \\nfenómeno de  la clonación, teoría del estructuralismo, el aprendizaje \\nsignificativo. \\n \\nAmbos tipos de  conocimientos son importantes, pues son distintas formas de \\nentender los fenómenos y son igualmente legítimos.   El conocimiento científico es \\nconsiderado uno de los modos del conocimiento más útil ya  que ha permitido \\nresolver importantes problemas de la humanidad, pero no es el único, lo cual es'"
      ]
     },
     "execution_count": 19,
     "metadata": {},
     "output_type": "execute_result"
    }
   ],
   "source": [
    "docs[0].page_content"
   ]
  }
 ],
 "metadata": {
  "kernelspec": {
   "display_name": "AIDev",
   "language": "python",
   "name": "python3"
  },
  "language_info": {
   "codemirror_mode": {
    "name": "ipython",
    "version": 3
   },
   "file_extension": ".py",
   "mimetype": "text/x-python",
   "name": "python",
   "nbconvert_exporter": "python",
   "pygments_lexer": "ipython3",
   "version": "3.11.11"
  }
 },
 "nbformat": 4,
 "nbformat_minor": 2
}
